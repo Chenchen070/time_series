{
 "cells": [
  {
   "cell_type": "markdown",
   "id": "4dad17b9",
   "metadata": {},
   "source": [
    "# Exercises\n",
    "\n",
    "The end result of this exercise should be a file named acquire.py."
   ]
  },
  {
   "cell_type": "markdown",
   "id": "031a2bc2",
   "metadata": {},
   "source": [
    "1. Using the code from the lesson as a guide and the REST API from https://python.zgulde.net/api/v1/items as we did in the lesson, create a dataframe named `items` that has all of the data for items."
   ]
  },
  {
   "cell_type": "code",
   "execution_count": 27,
   "id": "147345b2",
   "metadata": {},
   "outputs": [],
   "source": [
    "import pandas as pd\n",
    "import requests"
   ]
  },
  {
   "cell_type": "code",
   "execution_count": 38,
   "id": "921804d9",
   "metadata": {},
   "outputs": [],
   "source": [
    "url = 'https://python.zgulde.net/api/v1/items'\n",
    "response = requests.get(url)\n",
    "data_items = response.json()"
   ]
  },
  {
   "cell_type": "code",
   "execution_count": 39,
   "id": "dbd25ef8",
   "metadata": {},
   "outputs": [
    {
     "data": {
      "text/plain": [
       "dict_keys(['items', 'max_page', 'next_page', 'page', 'previous_page'])"
      ]
     },
     "execution_count": 39,
     "metadata": {},
     "output_type": "execute_result"
    }
   ],
   "source": [
    "data_items['payload'].keys()"
   ]
  },
  {
   "cell_type": "code",
   "execution_count": 40,
   "id": "915b4130",
   "metadata": {},
   "outputs": [
    {
     "data": {
      "text/plain": [
       "3"
      ]
     },
     "execution_count": 40,
     "metadata": {},
     "output_type": "execute_result"
    }
   ],
   "source": [
    "data_items['payload']['max_page']"
   ]
  },
  {
   "cell_type": "code",
   "execution_count": 41,
   "id": "3dd658a0",
   "metadata": {},
   "outputs": [
    {
     "data": {
      "text/plain": [
       "(20, 6)"
      ]
     },
     "execution_count": 41,
     "metadata": {},
     "output_type": "execute_result"
    }
   ],
   "source": [
    "items = pd.DataFrame(data_items['payload']['items'])\n",
    "items.shape"
   ]
  },
  {
   "cell_type": "code",
   "execution_count": 44,
   "id": "325bd48c",
   "metadata": {},
   "outputs": [
    {
     "data": {
      "text/html": [
       "<div>\n",
       "<style scoped>\n",
       "    .dataframe tbody tr th:only-of-type {\n",
       "        vertical-align: middle;\n",
       "    }\n",
       "\n",
       "    .dataframe tbody tr th {\n",
       "        vertical-align: top;\n",
       "    }\n",
       "\n",
       "    .dataframe thead th {\n",
       "        text-align: right;\n",
       "    }\n",
       "</style>\n",
       "<table border=\"1\" class=\"dataframe\">\n",
       "  <thead>\n",
       "    <tr style=\"text-align: right;\">\n",
       "      <th></th>\n",
       "      <th>item_brand</th>\n",
       "      <th>item_id</th>\n",
       "      <th>item_name</th>\n",
       "      <th>item_price</th>\n",
       "      <th>item_upc12</th>\n",
       "      <th>item_upc14</th>\n",
       "    </tr>\n",
       "  </thead>\n",
       "  <tbody>\n",
       "    <tr>\n",
       "      <th>0</th>\n",
       "      <td>Doctors Best</td>\n",
       "      <td>21</td>\n",
       "      <td>Doctors Best Best Curcumin C3 Complex 1000mg T...</td>\n",
       "      <td>8.09</td>\n",
       "      <td>753950001954</td>\n",
       "      <td>753950001954</td>\n",
       "    </tr>\n",
       "    <tr>\n",
       "      <th>1</th>\n",
       "      <td>Betty Crocker</td>\n",
       "      <td>22</td>\n",
       "      <td>Betty Crocker Twin Pack Real Potatoes Scallope...</td>\n",
       "      <td>7.31</td>\n",
       "      <td>16000288829</td>\n",
       "      <td>16000288829</td>\n",
       "    </tr>\n",
       "    <tr>\n",
       "      <th>2</th>\n",
       "      <td>Reese</td>\n",
       "      <td>23</td>\n",
       "      <td>Reese Mandarin Oranges Segments In Light Syrup</td>\n",
       "      <td>1.78</td>\n",
       "      <td>70670009658</td>\n",
       "      <td>70670009658</td>\n",
       "    </tr>\n",
       "    <tr>\n",
       "      <th>3</th>\n",
       "      <td>Smart Living</td>\n",
       "      <td>24</td>\n",
       "      <td>Smart Living Charcoal Lighter Fluid</td>\n",
       "      <td>5.34</td>\n",
       "      <td>688267084225</td>\n",
       "      <td>688267084225</td>\n",
       "    </tr>\n",
       "    <tr>\n",
       "      <th>4</th>\n",
       "      <td>Hood</td>\n",
       "      <td>25</td>\n",
       "      <td>Hood Latte Iced Coffee Drink Vanilla Latte</td>\n",
       "      <td>2.43</td>\n",
       "      <td>44100117428</td>\n",
       "      <td>44100117428</td>\n",
       "    </tr>\n",
       "  </tbody>\n",
       "</table>\n",
       "</div>"
      ],
      "text/plain": [
       "      item_brand  item_id                                          item_name  \\\n",
       "0   Doctors Best       21  Doctors Best Best Curcumin C3 Complex 1000mg T...   \n",
       "1  Betty Crocker       22  Betty Crocker Twin Pack Real Potatoes Scallope...   \n",
       "2          Reese       23     Reese Mandarin Oranges Segments In Light Syrup   \n",
       "3   Smart Living       24                Smart Living Charcoal Lighter Fluid   \n",
       "4           Hood       25         Hood Latte Iced Coffee Drink Vanilla Latte   \n",
       "\n",
       "   item_price    item_upc12    item_upc14  \n",
       "0        8.09  753950001954  753950001954  \n",
       "1        7.31   16000288829   16000288829  \n",
       "2        1.78   70670009658   70670009658  \n",
       "3        5.34  688267084225  688267084225  \n",
       "4        2.43   44100117428   44100117428  "
      ]
     },
     "execution_count": 44,
     "metadata": {},
     "output_type": "execute_result"
    }
   ],
   "source": [
    "base_url = 'https://python.zgulde.net'\n",
    "\n",
    "#Make a request for the information on the next page\n",
    "response2 = requests.get(base_url + data_items['payload']['next_page'])\n",
    "\n",
    "#Store the results of the request in a new dataframe\n",
    "data2 = response2.json()\n",
    "\n",
    "items2 = pd.DataFrame(data2['payload']['items'])\n",
    "items2.head()"
   ]
  },
  {
   "cell_type": "code",
   "execution_count": 45,
   "id": "149bad2b",
   "metadata": {},
   "outputs": [
    {
     "data": {
      "text/plain": [
       "(40, 7)"
      ]
     },
     "execution_count": 45,
     "metadata": {},
     "output_type": "execute_result"
    }
   ],
   "source": [
    "#Add the results of my new request to the original dataframe\n",
    "items = pd.concat([items, items2]).reset_index()\n",
    "items.shape"
   ]
  },
  {
   "cell_type": "code",
   "execution_count": 46,
   "id": "31c27350",
   "metadata": {},
   "outputs": [
    {
     "data": {
      "text/html": [
       "<div>\n",
       "<style scoped>\n",
       "    .dataframe tbody tr th:only-of-type {\n",
       "        vertical-align: middle;\n",
       "    }\n",
       "\n",
       "    .dataframe tbody tr th {\n",
       "        vertical-align: top;\n",
       "    }\n",
       "\n",
       "    .dataframe thead th {\n",
       "        text-align: right;\n",
       "    }\n",
       "</style>\n",
       "<table border=\"1\" class=\"dataframe\">\n",
       "  <thead>\n",
       "    <tr style=\"text-align: right;\">\n",
       "      <th></th>\n",
       "      <th>item_brand</th>\n",
       "      <th>item_id</th>\n",
       "      <th>item_name</th>\n",
       "      <th>item_price</th>\n",
       "      <th>item_upc12</th>\n",
       "      <th>item_upc14</th>\n",
       "    </tr>\n",
       "  </thead>\n",
       "  <tbody>\n",
       "    <tr>\n",
       "      <th>0</th>\n",
       "      <td>P.f. Changs</td>\n",
       "      <td>41</td>\n",
       "      <td>P.f. Changs Home Menu Meal For Two Beef With B...</td>\n",
       "      <td>5.62</td>\n",
       "      <td>31000670016</td>\n",
       "      <td>31000670016</td>\n",
       "    </tr>\n",
       "    <tr>\n",
       "      <th>1</th>\n",
       "      <td>Moms Best Naturals</td>\n",
       "      <td>42</td>\n",
       "      <td>Moms Best Naturals Cereal Toasted Cinnamon Squ...</td>\n",
       "      <td>2.97</td>\n",
       "      <td>883978129115</td>\n",
       "      <td>883978129115</td>\n",
       "    </tr>\n",
       "    <tr>\n",
       "      <th>2</th>\n",
       "      <td>Ferrara</td>\n",
       "      <td>43</td>\n",
       "      <td>Ferrara Vanilla Syrup</td>\n",
       "      <td>8.40</td>\n",
       "      <td>71403000379</td>\n",
       "      <td>71403000379</td>\n",
       "    </tr>\n",
       "    <tr>\n",
       "      <th>3</th>\n",
       "      <td>Elmers</td>\n",
       "      <td>44</td>\n",
       "      <td>Elmers Board Mate Dual Tip Glue Pen</td>\n",
       "      <td>7.06</td>\n",
       "      <td>26000001403</td>\n",
       "      <td>26000001403</td>\n",
       "    </tr>\n",
       "    <tr>\n",
       "      <th>4</th>\n",
       "      <td>Kelloggs</td>\n",
       "      <td>45</td>\n",
       "      <td>Kelloggs Disney Pixar Cars 2 Cereal</td>\n",
       "      <td>4.40</td>\n",
       "      <td>38000542237</td>\n",
       "      <td>38000542237</td>\n",
       "    </tr>\n",
       "  </tbody>\n",
       "</table>\n",
       "</div>"
      ],
      "text/plain": [
       "           item_brand  item_id  \\\n",
       "0         P.f. Changs       41   \n",
       "1  Moms Best Naturals       42   \n",
       "2             Ferrara       43   \n",
       "3              Elmers       44   \n",
       "4            Kelloggs       45   \n",
       "\n",
       "                                           item_name  item_price  \\\n",
       "0  P.f. Changs Home Menu Meal For Two Beef With B...        5.62   \n",
       "1  Moms Best Naturals Cereal Toasted Cinnamon Squ...        2.97   \n",
       "2                              Ferrara Vanilla Syrup        8.40   \n",
       "3                Elmers Board Mate Dual Tip Glue Pen        7.06   \n",
       "4                Kelloggs Disney Pixar Cars 2 Cereal        4.40   \n",
       "\n",
       "     item_upc12    item_upc14  \n",
       "0   31000670016   31000670016  \n",
       "1  883978129115  883978129115  \n",
       "2   71403000379   71403000379  \n",
       "3   26000001403   26000001403  \n",
       "4   38000542237   38000542237  "
      ]
     },
     "execution_count": 46,
     "metadata": {},
     "output_type": "execute_result"
    }
   ],
   "source": [
    "#Make one more request for the final page of data\n",
    "response3 = requests.get(base_url + data2['payload']['next_page'])\n",
    "\n",
    "data3 = response3.json()\n",
    "\n",
    "items3 = pd.DataFrame(data3['payload']['items'])\n",
    "\n",
    "items3.head()"
   ]
  },
  {
   "cell_type": "code",
   "execution_count": 47,
   "id": "717ca9e6",
   "metadata": {},
   "outputs": [
    {
     "data": {
      "text/plain": [
       "(50, 8)"
      ]
     },
     "execution_count": 47,
     "metadata": {},
     "output_type": "execute_result"
    }
   ],
   "source": [
    "#Add the results to my items dataframe\n",
    "items = pd.concat([items, items3]).reset_index()\n",
    "items.shape"
   ]
  },
  {
   "cell_type": "markdown",
   "id": "ba5abd34",
   "metadata": {},
   "source": [
    "2. Do the same thing, but for `stores` (https://python.zgulde.net/api/v1/stores)"
   ]
  },
  {
   "cell_type": "code",
   "execution_count": 49,
   "id": "68ad0636",
   "metadata": {},
   "outputs": [],
   "source": [
    "url = 'https://python.zgulde.net/api/v1/stores'\n",
    "response = requests.get(url)\n",
    "data_stores = response.json()"
   ]
  },
  {
   "cell_type": "code",
   "execution_count": 50,
   "id": "e9ff71a8",
   "metadata": {},
   "outputs": [
    {
     "data": {
      "text/html": [
       "<div>\n",
       "<style scoped>\n",
       "    .dataframe tbody tr th:only-of-type {\n",
       "        vertical-align: middle;\n",
       "    }\n",
       "\n",
       "    .dataframe tbody tr th {\n",
       "        vertical-align: top;\n",
       "    }\n",
       "\n",
       "    .dataframe thead th {\n",
       "        text-align: right;\n",
       "    }\n",
       "</style>\n",
       "<table border=\"1\" class=\"dataframe\">\n",
       "  <thead>\n",
       "    <tr style=\"text-align: right;\">\n",
       "      <th></th>\n",
       "      <th>store_address</th>\n",
       "      <th>store_city</th>\n",
       "      <th>store_id</th>\n",
       "      <th>store_state</th>\n",
       "      <th>store_zipcode</th>\n",
       "    </tr>\n",
       "  </thead>\n",
       "  <tbody>\n",
       "    <tr>\n",
       "      <th>0</th>\n",
       "      <td>12125 Alamo Ranch Pkwy</td>\n",
       "      <td>San Antonio</td>\n",
       "      <td>1</td>\n",
       "      <td>TX</td>\n",
       "      <td>78253</td>\n",
       "    </tr>\n",
       "    <tr>\n",
       "      <th>1</th>\n",
       "      <td>9255 FM 471 West</td>\n",
       "      <td>San Antonio</td>\n",
       "      <td>2</td>\n",
       "      <td>TX</td>\n",
       "      <td>78251</td>\n",
       "    </tr>\n",
       "    <tr>\n",
       "      <th>2</th>\n",
       "      <td>2118 Fredericksburg Rdj</td>\n",
       "      <td>San Antonio</td>\n",
       "      <td>3</td>\n",
       "      <td>TX</td>\n",
       "      <td>78201</td>\n",
       "    </tr>\n",
       "    <tr>\n",
       "      <th>3</th>\n",
       "      <td>516 S Flores St</td>\n",
       "      <td>San Antonio</td>\n",
       "      <td>4</td>\n",
       "      <td>TX</td>\n",
       "      <td>78204</td>\n",
       "    </tr>\n",
       "    <tr>\n",
       "      <th>4</th>\n",
       "      <td>1520 Austin Hwy</td>\n",
       "      <td>San Antonio</td>\n",
       "      <td>5</td>\n",
       "      <td>TX</td>\n",
       "      <td>78218</td>\n",
       "    </tr>\n",
       "    <tr>\n",
       "      <th>5</th>\n",
       "      <td>1015 S WW White Rd</td>\n",
       "      <td>San Antonio</td>\n",
       "      <td>6</td>\n",
       "      <td>TX</td>\n",
       "      <td>78220</td>\n",
       "    </tr>\n",
       "    <tr>\n",
       "      <th>6</th>\n",
       "      <td>12018 Perrin Beitel Rd</td>\n",
       "      <td>San Antonio</td>\n",
       "      <td>7</td>\n",
       "      <td>TX</td>\n",
       "      <td>78217</td>\n",
       "    </tr>\n",
       "    <tr>\n",
       "      <th>7</th>\n",
       "      <td>15000 San Pedro Ave</td>\n",
       "      <td>San Antonio</td>\n",
       "      <td>8</td>\n",
       "      <td>TX</td>\n",
       "      <td>78232</td>\n",
       "    </tr>\n",
       "    <tr>\n",
       "      <th>8</th>\n",
       "      <td>735 SW Military Dr</td>\n",
       "      <td>San Antonio</td>\n",
       "      <td>9</td>\n",
       "      <td>TX</td>\n",
       "      <td>78221</td>\n",
       "    </tr>\n",
       "    <tr>\n",
       "      <th>9</th>\n",
       "      <td>8503 NW Military Hwy</td>\n",
       "      <td>San Antonio</td>\n",
       "      <td>10</td>\n",
       "      <td>TX</td>\n",
       "      <td>78231</td>\n",
       "    </tr>\n",
       "  </tbody>\n",
       "</table>\n",
       "</div>"
      ],
      "text/plain": [
       "             store_address   store_city  store_id store_state store_zipcode\n",
       "0   12125 Alamo Ranch Pkwy  San Antonio         1          TX         78253\n",
       "1         9255 FM 471 West  San Antonio         2          TX         78251\n",
       "2  2118 Fredericksburg Rdj  San Antonio         3          TX         78201\n",
       "3          516 S Flores St  San Antonio         4          TX         78204\n",
       "4          1520 Austin Hwy  San Antonio         5          TX         78218\n",
       "5       1015 S WW White Rd  San Antonio         6          TX         78220\n",
       "6   12018 Perrin Beitel Rd  San Antonio         7          TX         78217\n",
       "7      15000 San Pedro Ave  San Antonio         8          TX         78232\n",
       "8       735 SW Military Dr  San Antonio         9          TX         78221\n",
       "9     8503 NW Military Hwy  San Antonio        10          TX         78231"
      ]
     },
     "execution_count": 50,
     "metadata": {},
     "output_type": "execute_result"
    }
   ],
   "source": [
    "stores = pd.DataFrame(data_stores['payload']['stores'])\n",
    "stores"
   ]
  },
  {
   "cell_type": "code",
   "execution_count": 20,
   "id": "ae8517f5",
   "metadata": {},
   "outputs": [
    {
     "data": {
      "text/plain": [
       "1"
      ]
     },
     "execution_count": 20,
     "metadata": {},
     "output_type": "execute_result"
    }
   ],
   "source": [
    "data_stores['payload']['max_page']"
   ]
  },
  {
   "cell_type": "markdown",
   "id": "2eae02f6",
   "metadata": {},
   "source": [
    "3. Extract the data for `sales` (https://python.zgulde.net/api/v1/sales). There are a lot of pages of data here, so your code will need to be a little more complex. Your code should continue fetching data from the next page until all of the data is extracted."
   ]
  },
  {
   "cell_type": "code",
   "execution_count": 2,
   "id": "71300f4c",
   "metadata": {},
   "outputs": [
    {
     "data": {
      "text/plain": [
       "dict_keys(['payload', 'status'])"
      ]
     },
     "execution_count": 2,
     "metadata": {},
     "output_type": "execute_result"
    }
   ],
   "source": [
    "base_url = 'https://python.zgulde.net'\n",
    "response = requests.get('https://python.zgulde.net/api/v1/sales')\n",
    "\n",
    "data_sales = response.json()\n",
    "data_sales.keys()"
   ]
  },
  {
   "cell_type": "code",
   "execution_count": 3,
   "id": "dc778aee",
   "metadata": {},
   "outputs": [
    {
     "data": {
      "text/plain": [
       "(1, 183, '/api/v1/sales?page=2', None)"
      ]
     },
     "execution_count": 3,
     "metadata": {},
     "output_type": "execute_result"
    }
   ],
   "source": [
    "(\n",
    "    data_sales['payload']['page'], \n",
    "    data_sales['payload']['max_page'], \n",
    "    data_sales['payload']['next_page'],\n",
    "    data_sales['payload']['previous_page'],\n",
    ")"
   ]
  },
  {
   "cell_type": "code",
   "execution_count": 4,
   "id": "cb61782c",
   "metadata": {},
   "outputs": [
    {
     "data": {
      "text/plain": [
       "183"
      ]
     },
     "execution_count": 4,
     "metadata": {},
     "output_type": "execute_result"
    }
   ],
   "source": [
    "max_page_sales = data_sales['payload']['max_page']\n",
    "max_page_sales"
   ]
  },
  {
   "cell_type": "code",
   "execution_count": 13,
   "id": "7344c782",
   "metadata": {},
   "outputs": [
    {
     "name": "stdout",
     "output_type": "stream",
     "text": [
      "Fetching page 2 of 183\n",
      "Fetching page 3 of 183\n",
      "Fetching page 4 of 183\n",
      "Fetching page 5 of 183\n",
      "Fetching page 6 of 183\n",
      "Fetching page 7 of 183\n",
      "Fetching page 8 of 183\n",
      "Fetching page 9 of 183\n",
      "Fetching page 10 of 183\n",
      "Fetching page 11 of 183\n",
      "Fetching page 12 of 183\n",
      "Fetching page 13 of 183\n",
      "Fetching page 14 of 183\n",
      "Fetching page 15 of 183\n",
      "Fetching page 16 of 183\n",
      "Fetching page 17 of 183\n",
      "Fetching page 18 of 183\n",
      "Fetching page 19 of 183\n",
      "Fetching page 20 of 183\n",
      "Fetching page 21 of 183\n",
      "Fetching page 22 of 183\n",
      "Fetching page 23 of 183\n",
      "Fetching page 24 of 183\n",
      "Fetching page 25 of 183\n",
      "Fetching page 26 of 183\n",
      "Fetching page 27 of 183\n",
      "Fetching page 28 of 183\n",
      "Fetching page 29 of 183\n",
      "Fetching page 30 of 183\n",
      "Fetching page 31 of 183\n",
      "Fetching page 32 of 183\n",
      "Fetching page 33 of 183\n",
      "Fetching page 34 of 183\n",
      "Fetching page 35 of 183\n",
      "Fetching page 36 of 183\n",
      "Fetching page 37 of 183\n",
      "Fetching page 38 of 183\n",
      "Fetching page 39 of 183\n",
      "Fetching page 40 of 183\n",
      "Fetching page 41 of 183\n",
      "Fetching page 42 of 183\n",
      "Fetching page 43 of 183\n",
      "Fetching page 44 of 183\n",
      "Fetching page 45 of 183\n",
      "Fetching page 46 of 183\n",
      "Fetching page 47 of 183\n",
      "Fetching page 48 of 183\n",
      "Fetching page 49 of 183\n",
      "Fetching page 50 of 183\n",
      "Fetching page 51 of 183\n",
      "Fetching page 52 of 183\n",
      "Fetching page 53 of 183\n",
      "Fetching page 54 of 183\n",
      "Fetching page 55 of 183\n",
      "Fetching page 56 of 183\n",
      "Fetching page 57 of 183\n",
      "Fetching page 58 of 183\n",
      "Fetching page 59 of 183\n",
      "Fetching page 60 of 183\n",
      "Fetching page 61 of 183\n",
      "Fetching page 62 of 183\n",
      "Fetching page 63 of 183\n",
      "Fetching page 64 of 183\n",
      "Fetching page 65 of 183\n",
      "Fetching page 66 of 183\n",
      "Fetching page 67 of 183\n",
      "Fetching page 68 of 183\n",
      "Fetching page 69 of 183\n",
      "Fetching page 70 of 183\n",
      "Fetching page 71 of 183\n",
      "Fetching page 72 of 183\n",
      "Fetching page 73 of 183\n",
      "Fetching page 74 of 183\n",
      "Fetching page 75 of 183\n",
      "Fetching page 76 of 183\n",
      "Fetching page 77 of 183\n",
      "Fetching page 78 of 183\n",
      "Fetching page 79 of 183\n",
      "Fetching page 80 of 183\n",
      "Fetching page 81 of 183\n",
      "Fetching page 82 of 183\n",
      "Fetching page 83 of 183\n",
      "Fetching page 84 of 183\n",
      "Fetching page 85 of 183\n",
      "Fetching page 86 of 183\n",
      "Fetching page 87 of 183\n",
      "Fetching page 88 of 183\n",
      "Fetching page 89 of 183\n",
      "Fetching page 90 of 183\n",
      "Fetching page 91 of 183\n",
      "Fetching page 92 of 183\n",
      "Fetching page 93 of 183\n",
      "Fetching page 94 of 183\n",
      "Fetching page 95 of 183\n",
      "Fetching page 96 of 183\n",
      "Fetching page 97 of 183\n",
      "Fetching page 98 of 183\n",
      "Fetching page 99 of 183\n",
      "Fetching page 100 of 183\n",
      "Fetching page 101 of 183\n",
      "Fetching page 102 of 183\n",
      "Fetching page 103 of 183\n",
      "Fetching page 104 of 183\n",
      "Fetching page 105 of 183\n",
      "Fetching page 106 of 183\n",
      "Fetching page 107 of 183\n",
      "Fetching page 108 of 183\n",
      "Fetching page 109 of 183\n",
      "Fetching page 110 of 183\n",
      "Fetching page 111 of 183\n",
      "Fetching page 112 of 183\n",
      "Fetching page 113 of 183\n",
      "Fetching page 114 of 183\n",
      "Fetching page 115 of 183\n",
      "Fetching page 116 of 183\n",
      "Fetching page 117 of 183\n",
      "Fetching page 118 of 183\n",
      "Fetching page 119 of 183\n",
      "Fetching page 120 of 183\n",
      "Fetching page 121 of 183\n",
      "Fetching page 122 of 183\n",
      "Fetching page 123 of 183\n",
      "Fetching page 124 of 183\n",
      "Fetching page 125 of 183\n",
      "Fetching page 126 of 183\n",
      "Fetching page 127 of 183\n",
      "Fetching page 128 of 183\n",
      "Fetching page 129 of 183\n",
      "Fetching page 130 of 183\n",
      "Fetching page 131 of 183\n",
      "Fetching page 132 of 183\n",
      "Fetching page 133 of 183\n",
      "Fetching page 134 of 183\n",
      "Fetching page 135 of 183\n",
      "Fetching page 136 of 183\n",
      "Fetching page 137 of 183\n",
      "Fetching page 138 of 183\n",
      "Fetching page 139 of 183\n",
      "Fetching page 140 of 183\n",
      "Fetching page 141 of 183\n",
      "Fetching page 142 of 183\n",
      "Fetching page 143 of 183\n",
      "Fetching page 144 of 183\n",
      "Fetching page 145 of 183\n",
      "Fetching page 146 of 183\n",
      "Fetching page 147 of 183\n",
      "Fetching page 148 of 183\n",
      "Fetching page 149 of 183\n",
      "Fetching page 150 of 183\n",
      "Fetching page 151 of 183\n",
      "Fetching page 152 of 183\n",
      "Fetching page 153 of 183\n",
      "Fetching page 154 of 183\n",
      "Fetching page 155 of 183\n",
      "Fetching page 156 of 183\n",
      "Fetching page 157 of 183\n",
      "Fetching page 158 of 183\n",
      "Fetching page 159 of 183\n",
      "Fetching page 160 of 183\n",
      "Fetching page 161 of 183\n",
      "Fetching page 162 of 183\n",
      "Fetching page 163 of 183\n",
      "Fetching page 164 of 183\n",
      "Fetching page 165 of 183\n",
      "Fetching page 166 of 183\n",
      "Fetching page 167 of 183\n",
      "Fetching page 168 of 183\n",
      "Fetching page 169 of 183\n",
      "Fetching page 170 of 183\n",
      "Fetching page 171 of 183\n",
      "Fetching page 172 of 183\n",
      "Fetching page 173 of 183\n",
      "Fetching page 174 of 183\n",
      "Fetching page 175 of 183\n",
      "Fetching page 176 of 183\n",
      "Fetching page 177 of 183\n",
      "Fetching page 178 of 183\n",
      "Fetching page 179 of 183\n",
      "Fetching page 180 of 183\n",
      "Fetching page 181 of 183\n",
      "Fetching page 182 of 183\n",
      "Fetching page 183 of 183\n"
     ]
    }
   ],
   "source": [
    "response = requests.get('https://python.zgulde.net/api/v1/sales')\n",
    "data = response.json()\n",
    "\n",
    "sales = data['payload']['sales']\n",
    "    \n",
    "while data['payload']['next_page'] is not None:\n",
    "        print('Fetching page {} of {}'.format(data['payload']['page'] + 1, data['payload']['max_page']))\n",
    "        response = requests.get('https://python.zgulde.net' + data['payload']['next_page'])\n",
    "        data = response.json()\n",
    "        sales += data['payload']['sales']"
   ]
  },
  {
   "cell_type": "code",
   "execution_count": 16,
   "id": "4a456463",
   "metadata": {},
   "outputs": [
    {
     "data": {
      "text/plain": [
       "(913000, 5)"
      ]
     },
     "execution_count": 16,
     "metadata": {},
     "output_type": "execute_result"
    }
   ],
   "source": [
    "sales = pd.DataFrame(sales)\n",
    "sales.shape"
   ]
  },
  {
   "cell_type": "markdown",
   "id": "e9b4447b",
   "metadata": {},
   "source": [
    "4. Save the data in your files to local csv files so that it will be faster to access in the future."
   ]
  },
  {
   "cell_type": "code",
   "execution_count": 17,
   "id": "56defb48",
   "metadata": {},
   "outputs": [],
   "source": [
    "sales.to_csv(\"store_sales.csv\")"
   ]
  },
  {
   "cell_type": "code",
   "execution_count": 51,
   "id": "d70ef0e6",
   "metadata": {},
   "outputs": [],
   "source": [
    "items.to_csv('items.csv')\n",
    "stores.to_csv('stores.csv')"
   ]
  },
  {
   "cell_type": "markdown",
   "id": "06d9a011",
   "metadata": {},
   "source": [
    "5. Combine the data from your three separate dataframes into one large dataframe."
   ]
  },
  {
   "cell_type": "code",
   "execution_count": 52,
   "id": "31ffc84d",
   "metadata": {},
   "outputs": [],
   "source": [
    "sales_store_item = sales.merge(stores, how=\"left\", left_on=\"store\", right_on=\"store_id\")"
   ]
  },
  {
   "cell_type": "code",
   "execution_count": 53,
   "id": "e1e6be2c",
   "metadata": {},
   "outputs": [
    {
     "name": "stdout",
     "output_type": "stream",
     "text": [
      "<class 'pandas.core.frame.DataFrame'>\n",
      "Int64Index: 913000 entries, 0 to 912999\n",
      "Data columns (total 18 columns):\n",
      " #   Column         Non-Null Count   Dtype  \n",
      "---  ------         --------------   -----  \n",
      " 0   item           913000 non-null  int64  \n",
      " 1   sale_amount    913000 non-null  float64\n",
      " 2   sale_date      913000 non-null  object \n",
      " 3   sale_id        913000 non-null  int64  \n",
      " 4   store          913000 non-null  int64  \n",
      " 5   store_address  913000 non-null  object \n",
      " 6   store_city     913000 non-null  object \n",
      " 7   store_id       913000 non-null  int64  \n",
      " 8   store_state    913000 non-null  object \n",
      " 9   store_zipcode  913000 non-null  object \n",
      " 10  level_0        913000 non-null  int64  \n",
      " 11  index          730400 non-null  float64\n",
      " 12  item_brand     913000 non-null  object \n",
      " 13  item_id        913000 non-null  int64  \n",
      " 14  item_name      913000 non-null  object \n",
      " 15  item_price     913000 non-null  float64\n",
      " 16  item_upc12     913000 non-null  object \n",
      " 17  item_upc14     913000 non-null  object \n",
      "dtypes: float64(3), int64(6), object(9)\n",
      "memory usage: 132.3+ MB\n"
     ]
    }
   ],
   "source": [
    "sales_store_item = sales_store_item.merge(items, how=\"left\", left_on=\"item\", right_on=\"item_id\")\n",
    "sales_store_item.info()"
   ]
  },
  {
   "cell_type": "code",
   "execution_count": 54,
   "id": "78de3d15",
   "metadata": {},
   "outputs": [
    {
     "data": {
      "text/html": [
       "<div>\n",
       "<style scoped>\n",
       "    .dataframe tbody tr th:only-of-type {\n",
       "        vertical-align: middle;\n",
       "    }\n",
       "\n",
       "    .dataframe tbody tr th {\n",
       "        vertical-align: top;\n",
       "    }\n",
       "\n",
       "    .dataframe thead th {\n",
       "        text-align: right;\n",
       "    }\n",
       "</style>\n",
       "<table border=\"1\" class=\"dataframe\">\n",
       "  <thead>\n",
       "    <tr style=\"text-align: right;\">\n",
       "      <th></th>\n",
       "      <th>item</th>\n",
       "      <th>sale_amount</th>\n",
       "      <th>sale_date</th>\n",
       "      <th>sale_id</th>\n",
       "      <th>store</th>\n",
       "      <th>store_address</th>\n",
       "      <th>store_city</th>\n",
       "      <th>store_id</th>\n",
       "      <th>store_state</th>\n",
       "      <th>store_zipcode</th>\n",
       "      <th>level_0</th>\n",
       "      <th>index</th>\n",
       "      <th>item_brand</th>\n",
       "      <th>item_id</th>\n",
       "      <th>item_name</th>\n",
       "      <th>item_price</th>\n",
       "      <th>item_upc12</th>\n",
       "      <th>item_upc14</th>\n",
       "    </tr>\n",
       "  </thead>\n",
       "  <tbody>\n",
       "    <tr>\n",
       "      <th>0</th>\n",
       "      <td>1</td>\n",
       "      <td>13.0</td>\n",
       "      <td>Tue, 01 Jan 2013 00:00:00 GMT</td>\n",
       "      <td>1</td>\n",
       "      <td>1</td>\n",
       "      <td>12125 Alamo Ranch Pkwy</td>\n",
       "      <td>San Antonio</td>\n",
       "      <td>1</td>\n",
       "      <td>TX</td>\n",
       "      <td>78253</td>\n",
       "      <td>0</td>\n",
       "      <td>0.0</td>\n",
       "      <td>Riceland</td>\n",
       "      <td>1</td>\n",
       "      <td>Riceland American Jazmine Rice</td>\n",
       "      <td>0.84</td>\n",
       "      <td>35200264013</td>\n",
       "      <td>35200264013</td>\n",
       "    </tr>\n",
       "    <tr>\n",
       "      <th>1</th>\n",
       "      <td>1</td>\n",
       "      <td>11.0</td>\n",
       "      <td>Wed, 02 Jan 2013 00:00:00 GMT</td>\n",
       "      <td>2</td>\n",
       "      <td>1</td>\n",
       "      <td>12125 Alamo Ranch Pkwy</td>\n",
       "      <td>San Antonio</td>\n",
       "      <td>1</td>\n",
       "      <td>TX</td>\n",
       "      <td>78253</td>\n",
       "      <td>0</td>\n",
       "      <td>0.0</td>\n",
       "      <td>Riceland</td>\n",
       "      <td>1</td>\n",
       "      <td>Riceland American Jazmine Rice</td>\n",
       "      <td>0.84</td>\n",
       "      <td>35200264013</td>\n",
       "      <td>35200264013</td>\n",
       "    </tr>\n",
       "    <tr>\n",
       "      <th>2</th>\n",
       "      <td>1</td>\n",
       "      <td>14.0</td>\n",
       "      <td>Thu, 03 Jan 2013 00:00:00 GMT</td>\n",
       "      <td>3</td>\n",
       "      <td>1</td>\n",
       "      <td>12125 Alamo Ranch Pkwy</td>\n",
       "      <td>San Antonio</td>\n",
       "      <td>1</td>\n",
       "      <td>TX</td>\n",
       "      <td>78253</td>\n",
       "      <td>0</td>\n",
       "      <td>0.0</td>\n",
       "      <td>Riceland</td>\n",
       "      <td>1</td>\n",
       "      <td>Riceland American Jazmine Rice</td>\n",
       "      <td>0.84</td>\n",
       "      <td>35200264013</td>\n",
       "      <td>35200264013</td>\n",
       "    </tr>\n",
       "    <tr>\n",
       "      <th>3</th>\n",
       "      <td>1</td>\n",
       "      <td>13.0</td>\n",
       "      <td>Fri, 04 Jan 2013 00:00:00 GMT</td>\n",
       "      <td>4</td>\n",
       "      <td>1</td>\n",
       "      <td>12125 Alamo Ranch Pkwy</td>\n",
       "      <td>San Antonio</td>\n",
       "      <td>1</td>\n",
       "      <td>TX</td>\n",
       "      <td>78253</td>\n",
       "      <td>0</td>\n",
       "      <td>0.0</td>\n",
       "      <td>Riceland</td>\n",
       "      <td>1</td>\n",
       "      <td>Riceland American Jazmine Rice</td>\n",
       "      <td>0.84</td>\n",
       "      <td>35200264013</td>\n",
       "      <td>35200264013</td>\n",
       "    </tr>\n",
       "    <tr>\n",
       "      <th>4</th>\n",
       "      <td>1</td>\n",
       "      <td>10.0</td>\n",
       "      <td>Sat, 05 Jan 2013 00:00:00 GMT</td>\n",
       "      <td>5</td>\n",
       "      <td>1</td>\n",
       "      <td>12125 Alamo Ranch Pkwy</td>\n",
       "      <td>San Antonio</td>\n",
       "      <td>1</td>\n",
       "      <td>TX</td>\n",
       "      <td>78253</td>\n",
       "      <td>0</td>\n",
       "      <td>0.0</td>\n",
       "      <td>Riceland</td>\n",
       "      <td>1</td>\n",
       "      <td>Riceland American Jazmine Rice</td>\n",
       "      <td>0.84</td>\n",
       "      <td>35200264013</td>\n",
       "      <td>35200264013</td>\n",
       "    </tr>\n",
       "  </tbody>\n",
       "</table>\n",
       "</div>"
      ],
      "text/plain": [
       "   item  sale_amount                      sale_date  sale_id  store  \\\n",
       "0     1         13.0  Tue, 01 Jan 2013 00:00:00 GMT        1      1   \n",
       "1     1         11.0  Wed, 02 Jan 2013 00:00:00 GMT        2      1   \n",
       "2     1         14.0  Thu, 03 Jan 2013 00:00:00 GMT        3      1   \n",
       "3     1         13.0  Fri, 04 Jan 2013 00:00:00 GMT        4      1   \n",
       "4     1         10.0  Sat, 05 Jan 2013 00:00:00 GMT        5      1   \n",
       "\n",
       "            store_address   store_city  store_id store_state store_zipcode  \\\n",
       "0  12125 Alamo Ranch Pkwy  San Antonio         1          TX         78253   \n",
       "1  12125 Alamo Ranch Pkwy  San Antonio         1          TX         78253   \n",
       "2  12125 Alamo Ranch Pkwy  San Antonio         1          TX         78253   \n",
       "3  12125 Alamo Ranch Pkwy  San Antonio         1          TX         78253   \n",
       "4  12125 Alamo Ranch Pkwy  San Antonio         1          TX         78253   \n",
       "\n",
       "   level_0  index item_brand  item_id                       item_name  \\\n",
       "0        0    0.0   Riceland        1  Riceland American Jazmine Rice   \n",
       "1        0    0.0   Riceland        1  Riceland American Jazmine Rice   \n",
       "2        0    0.0   Riceland        1  Riceland American Jazmine Rice   \n",
       "3        0    0.0   Riceland        1  Riceland American Jazmine Rice   \n",
       "4        0    0.0   Riceland        1  Riceland American Jazmine Rice   \n",
       "\n",
       "   item_price   item_upc12   item_upc14  \n",
       "0        0.84  35200264013  35200264013  \n",
       "1        0.84  35200264013  35200264013  \n",
       "2        0.84  35200264013  35200264013  \n",
       "3        0.84  35200264013  35200264013  \n",
       "4        0.84  35200264013  35200264013  "
      ]
     },
     "execution_count": 54,
     "metadata": {},
     "output_type": "execute_result"
    }
   ],
   "source": [
    "sales_store_item.head()"
   ]
  },
  {
   "cell_type": "code",
   "execution_count": 55,
   "id": "7f52e95d",
   "metadata": {},
   "outputs": [],
   "source": [
    "sales_store_item.to_csv('merged_df.csv')"
   ]
  },
  {
   "cell_type": "markdown",
   "id": "56fae7e5",
   "metadata": {},
   "source": [
    "6. Acquire the Open Power Systems Data for Germany, which has been rapidly expanding its renewable energy production in recent years. The data set includes country-wide totals of electricity consumption, wind power production, and solar power production for 2006-2017. You can get the data here: https://raw.githubusercontent.com/jenfly/opsd/master/opsd_germany_daily.csv"
   ]
  },
  {
   "cell_type": "code",
   "execution_count": 56,
   "id": "1a8f7d54",
   "metadata": {},
   "outputs": [],
   "source": [
    "power = pd.read_csv('https://raw.githubusercontent.com/jenfly/opsd/master/opsd_germany_daily.csv')"
   ]
  },
  {
   "cell_type": "code",
   "execution_count": 57,
   "id": "745cea28",
   "metadata": {},
   "outputs": [
    {
     "data": {
      "text/html": [
       "<div>\n",
       "<style scoped>\n",
       "    .dataframe tbody tr th:only-of-type {\n",
       "        vertical-align: middle;\n",
       "    }\n",
       "\n",
       "    .dataframe tbody tr th {\n",
       "        vertical-align: top;\n",
       "    }\n",
       "\n",
       "    .dataframe thead th {\n",
       "        text-align: right;\n",
       "    }\n",
       "</style>\n",
       "<table border=\"1\" class=\"dataframe\">\n",
       "  <thead>\n",
       "    <tr style=\"text-align: right;\">\n",
       "      <th></th>\n",
       "      <th>Date</th>\n",
       "      <th>Consumption</th>\n",
       "      <th>Wind</th>\n",
       "      <th>Solar</th>\n",
       "      <th>Wind+Solar</th>\n",
       "    </tr>\n",
       "  </thead>\n",
       "  <tbody>\n",
       "    <tr>\n",
       "      <th>0</th>\n",
       "      <td>2006-01-01</td>\n",
       "      <td>1069.184</td>\n",
       "      <td>NaN</td>\n",
       "      <td>NaN</td>\n",
       "      <td>NaN</td>\n",
       "    </tr>\n",
       "    <tr>\n",
       "      <th>1</th>\n",
       "      <td>2006-01-02</td>\n",
       "      <td>1380.521</td>\n",
       "      <td>NaN</td>\n",
       "      <td>NaN</td>\n",
       "      <td>NaN</td>\n",
       "    </tr>\n",
       "    <tr>\n",
       "      <th>2</th>\n",
       "      <td>2006-01-03</td>\n",
       "      <td>1442.533</td>\n",
       "      <td>NaN</td>\n",
       "      <td>NaN</td>\n",
       "      <td>NaN</td>\n",
       "    </tr>\n",
       "    <tr>\n",
       "      <th>3</th>\n",
       "      <td>2006-01-04</td>\n",
       "      <td>1457.217</td>\n",
       "      <td>NaN</td>\n",
       "      <td>NaN</td>\n",
       "      <td>NaN</td>\n",
       "    </tr>\n",
       "    <tr>\n",
       "      <th>4</th>\n",
       "      <td>2006-01-05</td>\n",
       "      <td>1477.131</td>\n",
       "      <td>NaN</td>\n",
       "      <td>NaN</td>\n",
       "      <td>NaN</td>\n",
       "    </tr>\n",
       "  </tbody>\n",
       "</table>\n",
       "</div>"
      ],
      "text/plain": [
       "         Date  Consumption  Wind  Solar  Wind+Solar\n",
       "0  2006-01-01     1069.184   NaN    NaN         NaN\n",
       "1  2006-01-02     1380.521   NaN    NaN         NaN\n",
       "2  2006-01-03     1442.533   NaN    NaN         NaN\n",
       "3  2006-01-04     1457.217   NaN    NaN         NaN\n",
       "4  2006-01-05     1477.131   NaN    NaN         NaN"
      ]
     },
     "execution_count": 57,
     "metadata": {},
     "output_type": "execute_result"
    }
   ],
   "source": [
    "power.head()"
   ]
  },
  {
   "cell_type": "code",
   "execution_count": 58,
   "id": "425b37fb",
   "metadata": {},
   "outputs": [],
   "source": [
    "power.to_csv('power.csv')"
   ]
  },
  {
   "cell_type": "markdown",
   "id": "d9300eda",
   "metadata": {},
   "source": [
    "7. Make sure all the work that you have done above is reproducible. That is, you should put the code above into separate functions in the `acquire.py` file and be able to re-run the functions and get the same data."
   ]
  },
  {
   "cell_type": "code",
   "execution_count": 75,
   "id": "fdd3192a",
   "metadata": {},
   "outputs": [],
   "source": [
    "def get_items():\n",
    "    \n",
    "    base_url = 'https://python.zgulde.net'\n",
    "    \n",
    "    response = requests.get('https://python.zgulde.net/api/v1/items')\n",
    "    \n",
    "    data = response.json()\n",
    "    \n",
    "    items = data['payload']['items']\n",
    "    \n",
    "    while data['payload']['next_page'] is not None:\n",
    "\n",
    "        response = requests.get(base_url + data['payload']['next_page'])\n",
    "        data = response.json()\n",
    "        items += data['payload']['items']\n",
    "        \n",
    "    return  pd.DataFrame(items)"
   ]
  },
  {
   "cell_type": "code",
   "execution_count": 76,
   "id": "29099cc6",
   "metadata": {},
   "outputs": [
    {
     "data": {
      "text/plain": [
       "(50, 6)"
      ]
     },
     "execution_count": 76,
     "metadata": {},
     "output_type": "execute_result"
    }
   ],
   "source": [
    "# test\n",
    "\n",
    "items1 = get_items()\n",
    "items1.shape"
   ]
  },
  {
   "cell_type": "code",
   "execution_count": 77,
   "id": "3507cdab",
   "metadata": {},
   "outputs": [
    {
     "data": {
      "text/html": [
       "<div>\n",
       "<style scoped>\n",
       "    .dataframe tbody tr th:only-of-type {\n",
       "        vertical-align: middle;\n",
       "    }\n",
       "\n",
       "    .dataframe tbody tr th {\n",
       "        vertical-align: top;\n",
       "    }\n",
       "\n",
       "    .dataframe thead th {\n",
       "        text-align: right;\n",
       "    }\n",
       "</style>\n",
       "<table border=\"1\" class=\"dataframe\">\n",
       "  <thead>\n",
       "    <tr style=\"text-align: right;\">\n",
       "      <th></th>\n",
       "      <th>item_brand</th>\n",
       "      <th>item_id</th>\n",
       "      <th>item_name</th>\n",
       "      <th>item_price</th>\n",
       "      <th>item_upc12</th>\n",
       "      <th>item_upc14</th>\n",
       "    </tr>\n",
       "  </thead>\n",
       "  <tbody>\n",
       "    <tr>\n",
       "      <th>0</th>\n",
       "      <td>Riceland</td>\n",
       "      <td>1</td>\n",
       "      <td>Riceland American Jazmine Rice</td>\n",
       "      <td>0.84</td>\n",
       "      <td>35200264013</td>\n",
       "      <td>35200264013</td>\n",
       "    </tr>\n",
       "    <tr>\n",
       "      <th>1</th>\n",
       "      <td>Caress</td>\n",
       "      <td>2</td>\n",
       "      <td>Caress Velvet Bliss Ultra Silkening Beauty Bar...</td>\n",
       "      <td>6.44</td>\n",
       "      <td>11111065925</td>\n",
       "      <td>11111065925</td>\n",
       "    </tr>\n",
       "    <tr>\n",
       "      <th>2</th>\n",
       "      <td>Earths Best</td>\n",
       "      <td>3</td>\n",
       "      <td>Earths Best Organic Fruit Yogurt Smoothie Mixe...</td>\n",
       "      <td>2.43</td>\n",
       "      <td>23923330139</td>\n",
       "      <td>23923330139</td>\n",
       "    </tr>\n",
       "    <tr>\n",
       "      <th>3</th>\n",
       "      <td>Boars Head</td>\n",
       "      <td>4</td>\n",
       "      <td>Boars Head Sliced White American Cheese - 120 Ct</td>\n",
       "      <td>3.14</td>\n",
       "      <td>208528800007</td>\n",
       "      <td>208528800007</td>\n",
       "    </tr>\n",
       "    <tr>\n",
       "      <th>4</th>\n",
       "      <td>Back To Nature</td>\n",
       "      <td>5</td>\n",
       "      <td>Back To Nature Gluten Free White Cheddar Rice ...</td>\n",
       "      <td>2.61</td>\n",
       "      <td>759283100036</td>\n",
       "      <td>759283100036</td>\n",
       "    </tr>\n",
       "  </tbody>\n",
       "</table>\n",
       "</div>"
      ],
      "text/plain": [
       "       item_brand  item_id                                          item_name  \\\n",
       "0        Riceland        1                     Riceland American Jazmine Rice   \n",
       "1          Caress        2  Caress Velvet Bliss Ultra Silkening Beauty Bar...   \n",
       "2     Earths Best        3  Earths Best Organic Fruit Yogurt Smoothie Mixe...   \n",
       "3      Boars Head        4   Boars Head Sliced White American Cheese - 120 Ct   \n",
       "4  Back To Nature        5  Back To Nature Gluten Free White Cheddar Rice ...   \n",
       "\n",
       "   item_price    item_upc12    item_upc14  \n",
       "0        0.84   35200264013   35200264013  \n",
       "1        6.44   11111065925   11111065925  \n",
       "2        2.43   23923330139   23923330139  \n",
       "3        3.14  208528800007  208528800007  \n",
       "4        2.61  759283100036  759283100036  "
      ]
     },
     "execution_count": 77,
     "metadata": {},
     "output_type": "execute_result"
    }
   ],
   "source": [
    "items1.head()"
   ]
  },
  {
   "cell_type": "code",
   "execution_count": 78,
   "id": "f4b211cd",
   "metadata": {},
   "outputs": [],
   "source": [
    "def get_store():\n",
    "    \n",
    "    response = requests.get('https://python.zgulde.net/api/v1/stores')\n",
    "    \n",
    "    data = response.json()\n",
    "\n",
    "    stores = data['payload']['stores']\n",
    "    \n",
    "    return pd.DataFrame(stores)"
   ]
  },
  {
   "cell_type": "code",
   "execution_count": 79,
   "id": "04dfc7a8",
   "metadata": {},
   "outputs": [
    {
     "data": {
      "text/html": [
       "<div>\n",
       "<style scoped>\n",
       "    .dataframe tbody tr th:only-of-type {\n",
       "        vertical-align: middle;\n",
       "    }\n",
       "\n",
       "    .dataframe tbody tr th {\n",
       "        vertical-align: top;\n",
       "    }\n",
       "\n",
       "    .dataframe thead th {\n",
       "        text-align: right;\n",
       "    }\n",
       "</style>\n",
       "<table border=\"1\" class=\"dataframe\">\n",
       "  <thead>\n",
       "    <tr style=\"text-align: right;\">\n",
       "      <th></th>\n",
       "      <th>store_address</th>\n",
       "      <th>store_city</th>\n",
       "      <th>store_id</th>\n",
       "      <th>store_state</th>\n",
       "      <th>store_zipcode</th>\n",
       "    </tr>\n",
       "  </thead>\n",
       "  <tbody>\n",
       "    <tr>\n",
       "      <th>0</th>\n",
       "      <td>12125 Alamo Ranch Pkwy</td>\n",
       "      <td>San Antonio</td>\n",
       "      <td>1</td>\n",
       "      <td>TX</td>\n",
       "      <td>78253</td>\n",
       "    </tr>\n",
       "    <tr>\n",
       "      <th>1</th>\n",
       "      <td>9255 FM 471 West</td>\n",
       "      <td>San Antonio</td>\n",
       "      <td>2</td>\n",
       "      <td>TX</td>\n",
       "      <td>78251</td>\n",
       "    </tr>\n",
       "    <tr>\n",
       "      <th>2</th>\n",
       "      <td>2118 Fredericksburg Rdj</td>\n",
       "      <td>San Antonio</td>\n",
       "      <td>3</td>\n",
       "      <td>TX</td>\n",
       "      <td>78201</td>\n",
       "    </tr>\n",
       "    <tr>\n",
       "      <th>3</th>\n",
       "      <td>516 S Flores St</td>\n",
       "      <td>San Antonio</td>\n",
       "      <td>4</td>\n",
       "      <td>TX</td>\n",
       "      <td>78204</td>\n",
       "    </tr>\n",
       "    <tr>\n",
       "      <th>4</th>\n",
       "      <td>1520 Austin Hwy</td>\n",
       "      <td>San Antonio</td>\n",
       "      <td>5</td>\n",
       "      <td>TX</td>\n",
       "      <td>78218</td>\n",
       "    </tr>\n",
       "  </tbody>\n",
       "</table>\n",
       "</div>"
      ],
      "text/plain": [
       "             store_address   store_city  store_id store_state store_zipcode\n",
       "0   12125 Alamo Ranch Pkwy  San Antonio         1          TX         78253\n",
       "1         9255 FM 471 West  San Antonio         2          TX         78251\n",
       "2  2118 Fredericksburg Rdj  San Antonio         3          TX         78201\n",
       "3          516 S Flores St  San Antonio         4          TX         78204\n",
       "4          1520 Austin Hwy  San Antonio         5          TX         78218"
      ]
     },
     "execution_count": 79,
     "metadata": {},
     "output_type": "execute_result"
    }
   ],
   "source": [
    "store1 = get_store()\n",
    "store1.head()"
   ]
  },
  {
   "cell_type": "code",
   "execution_count": 81,
   "id": "2a22c47e",
   "metadata": {},
   "outputs": [],
   "source": [
    "def get_sales():\n",
    "    \n",
    "    response = requests.get('https://python.zgulde.net/api/v1/sales')\n",
    "    data = response.json()\n",
    "    sales = data['payload']['sales']\n",
    "    \n",
    "    while data['payload']['next_page'] is not None:\n",
    "        \n",
    "        response = requests.get('https://python.zgulde.net' + data['payload']['next_page'])\n",
    "        data = response.json()\n",
    "        sales += data['payload']['sales']\n",
    "        \n",
    "    return pd.DataFrame(sales)"
   ]
  },
  {
   "cell_type": "code",
   "execution_count": 82,
   "id": "e054d20d",
   "metadata": {},
   "outputs": [],
   "source": [
    "def merge_sales(sales, items, stores):\n",
    "    \n",
    "    sales_store_item = sales.merge(stores, how=\"left\", left_on=\"store\", right_on=\"store_id\")\n",
    "    sales_store_item = sales_store_item.merge(items, how=\"left\", left_on=\"item\", right_on=\"item_id\")\n",
    "    \n",
    "    return sales_store_item"
   ]
  },
  {
   "cell_type": "code",
   "execution_count": 85,
   "id": "dec89920",
   "metadata": {},
   "outputs": [
    {
     "data": {
      "text/plain": [
       "(913000, 18)"
      ]
     },
     "execution_count": 85,
     "metadata": {},
     "output_type": "execute_result"
    }
   ],
   "source": [
    "sales_store_item1 = merge_sales(sales, items, stores)\n",
    "sales_store_item1.shape"
   ]
  },
  {
   "cell_type": "code",
   "execution_count": null,
   "id": "2ea4aec7",
   "metadata": {},
   "outputs": [],
   "source": []
  },
  {
   "cell_type": "code",
   "execution_count": null,
   "id": "5e155848",
   "metadata": {},
   "outputs": [],
   "source": []
  },
  {
   "cell_type": "code",
   "execution_count": null,
   "id": "52ab46e7",
   "metadata": {},
   "outputs": [],
   "source": []
  },
  {
   "cell_type": "code",
   "execution_count": null,
   "id": "036d2c96",
   "metadata": {},
   "outputs": [],
   "source": []
  }
 ],
 "metadata": {
  "kernelspec": {
   "display_name": "Python 3 (ipykernel)",
   "language": "python",
   "name": "python3"
  },
  "language_info": {
   "codemirror_mode": {
    "name": "ipython",
    "version": 3
   },
   "file_extension": ".py",
   "mimetype": "text/x-python",
   "name": "python",
   "nbconvert_exporter": "python",
   "pygments_lexer": "ipython3",
   "version": "3.9.12"
  }
 },
 "nbformat": 4,
 "nbformat_minor": 5
}
